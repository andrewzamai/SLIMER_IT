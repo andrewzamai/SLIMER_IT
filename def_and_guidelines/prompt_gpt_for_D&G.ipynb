{
 "cells": [
  {
   "cell_type": "markdown",
   "metadata": {},
   "source": [
    "## Prompt a LLM (e.g. gpt-3.5-turbo) to get a Definition and Guidelines for each NE type of the dataset at hand"
   ]
  },
  {
   "cell_type": "code",
   "execution_count": 2,
   "metadata": {},
   "outputs": [],
   "source": [
    "from dotenv import load_dotenv\n",
    "from openai import OpenAI\n",
    "import tiktoken \n",
    "\n",
    "import json\n",
    "import sys\n",
    "import os"
   ]
  },
  {
   "cell_type": "code",
   "execution_count": 5,
   "metadata": {},
   "outputs": [
    {
     "name": "stdout",
     "output_type": "stream",
     "text": [
      "True\n"
     ]
    }
   ],
   "source": [
    "# Load API key from .env\n",
    "load_dotenv('./.env')\n",
    "print(os.environ.get('OPENAI_API_KEY') is not None)"
   ]
  },
  {
   "cell_type": "code",
   "execution_count": 6,
   "metadata": {},
   "outputs": [],
   "source": [
    "client = OpenAI()"
   ]
  },
  {
   "cell_type": "code",
   "execution_count": 7,
   "metadata": {},
   "outputs": [],
   "source": [
    "gpt_model = \"gpt-3.5-turbo-1106\""
   ]
  },
  {
   "cell_type": "code",
   "execution_count": 11,
   "metadata": {},
   "outputs": [
    {
     "name": "stdout",
     "output_type": "stream",
     "text": [
      "NE types:\n",
      "15\n",
      "['ANIM', 'BIO', 'CEL', 'DIS', 'EVE', 'FOOD', 'INST', 'LOC', 'MEDIA', 'MYTH', 'ORG', 'PER', 'PLANT', 'TIME', 'VEHI']\n"
     ]
    }
   ],
   "source": [
    "dataset_name = \"Multinerd_it\"\n",
    "with open(f\"./sentences_x_NE/{dataset_name}.json\", 'r') as file:\n",
    "        sentences_per_ne_type = json.load(file)\n",
    "\n",
    "ne_types_list = list(sentences_per_ne_type.keys())\n",
    "\n",
    "print(\"NE types:\")\n",
    "print(len(ne_types_list))\n",
    "print(ne_types_list)"
   ]
  },
  {
   "cell_type": "code",
   "execution_count": 13,
   "metadata": {},
   "outputs": [],
   "source": [
    "with open(os.path.join(f'../../datasets/multinerd', 'extended_labels_map.jsonl')) as fp:\n",
    "    extended_labels_map = json.load(fp)"
   ]
  },
  {
   "cell_type": "code",
   "execution_count": 17,
   "metadata": {},
   "outputs": [
    {
     "name": "stdout",
     "output_type": "stream",
     "text": [
      "{'ANIM': {'real_name': 'animale', 'sentences': [{'sentence': 'Tra i mammiferi , è presente il rinolofo euriale ( \" Rhinolophus euryale \" ) , un chirottero .', 'target_words_in_it': ['Rhinolophus euryale'], 'occurrences_count': 1}, {'sentence': 'Il fiume in queste zone ospita una grande popolazioni di ippopotami .', 'target_words_in_it': ['ippopotami'], 'occurrences_count': 1}, {'sentence': 'Tra le specie maggiormente predate i primati di piccola taglia come il Lori lento .', 'target_words_in_it': ['Lori lento'], 'occurrences_count': 1}]}, 'BIO': {'real_name': 'entità biologica', 'sentences': [{'sentence': 'Le macchie nere sulle foglie sono causate dal Colletotrichum .', 'target_words_in_it': ['Colletotrichum'], 'occurrences_count': 1}, {'sentence': 'Un piccolo numero di lieviti come la \" Candida albicans \", può causare infezioni nell\\'uomo.', 'target_words_in_it': ['Candida albicans'], 'occurrences_count': 1}, {'sentence': 'Il genere è stato introdotto nel 1998 come \" genere dei virus che somigliano al virus Ebola \" .', 'target_words_in_it': ['virus Ebola'], 'occurrences_count': 1}]}, 'CEL': {'real_name': 'corpo celeste', 'sentences': [{'sentence': 'Questa è una lista degli \" anelli di Urano \" a cui è stato dato un nome .', 'target_words_in_it': ['anelli di Urano'], 'occurrences_count': 1}, {'sentence': '\" NGC 5746 \" è una galassia a spirale barrata della costellazione della Vergine .', 'target_words_in_it': ['NGC 5746', 'costellazione della Vergine', 'galassia a spirale barrata'], 'occurrences_count': 3}, {'sentence': 'Il Sole entra nel segno astrologico della Vergine alle ore 02:36 .', 'target_words_in_it': ['Vergine', 'Sole'], 'occurrences_count': 2}]}, 'DIS': {'real_name': 'malattia', 'sentences': [{'sentence': 'La formazione di fistole artero-venose polmonari può portare a una sindrome cianotica .', 'target_words_in_it': ['fistole artero-venose polmonari'], 'occurrences_count': 1}, {'sentence': 'Oltre questa distanza , è in atto convenzionalmente la patologia chiamata presbiopia .', 'target_words_in_it': ['presbiopia'], 'occurrences_count': 1}, {'sentence': 'Le loro caratteristiche variano a seconda delle ansie , delle paure o degli obiettivi del bambino .', 'target_words_in_it': ['ansie'], 'occurrences_count': 1}]}, 'EVE': {'real_name': 'evento', 'sentences': [{'sentence': 'La pellicola è stata presentata al Sundance Film Festival il 23 gennaio 2015 .', 'target_words_in_it': ['Sundance Film Festival'], 'occurrences_count': 1}, {'sentence': 'Prese poi parte , senza grandi pretese , al Tour de France .', 'target_words_in_it': ['Tour de France'], 'occurrences_count': 1}, {'sentence': 'Nel 2008 viene convocato per gli Europei in Austria e Svizzera .', 'target_words_in_it': ['Europei'], 'occurrences_count': 1}]}, 'FOOD': {'real_name': 'cibo', 'sentences': [{'sentence': 'Sono piante visitate dalle api per la produzione di miele di melata .', 'target_words_in_it': ['miele'], 'occurrences_count': 1}, {'sentence': 'È ovoviviparo e gli embrioni si nutrono solamente di tuorlo .', 'target_words_in_it': ['tuorlo'], 'occurrences_count': 1}, {'sentence': 'Viene fritta in olio , poi immersa nel miele e poi vengono aggiunti i semi di sesamo .', 'target_words_in_it': ['olio', 'miele', 'semi di sesamo'], 'occurrences_count': 1}]}, 'INST': {'real_name': 'strumento', 'sentences': [{'sentence': \"A gennaio 1977 , e le vendite dei suoi computer , tra cui l' Apple II , crebbero rapidamente .\", 'target_words_in_it': ['Apple II'], 'occurrences_count': 1}, {'sentence': 'è disponibile in due versioni : in Java e in Flash .', 'target_words_in_it': ['Flash'], 'occurrences_count': 1}, {'sentence': 'La console legge anche CD-ROM , Super Audio CD e DVD-ROM .', 'target_words_in_it': ['CD-ROM', 'Super Audio CD', 'DVD-ROM'], 'occurrences_count': 3}]}, 'LOC': {'real_name': 'località', 'sentences': [{'sentence': 'La massima altitudine è la cima Carega ( 2259 \" m ) .', 'target_words_in_it': ['cima Carega'], 'occurrences_count': 1}, {'sentence': \"Protagonista una ristretta cerchia di conoscenti dell' Oregon .\", 'target_words_in_it': ['Oregon'], 'occurrences_count': 1}, {'sentence': \"Nel 2002 lanciano un' iniziativa contro lo sfruttamento della prostituzione minorile in Indocina .\", 'target_words_in_it': ['Indocina'], 'occurrences_count': 1}]}, 'MEDIA': {'real_name': 'media', 'sentences': [{'sentence': 'Il nuovo album si intitolerà \" Hollywood Trash \" e verrà realizzato nel 2001 .', 'target_words_in_it': ['Hollywood Trash'], 'occurrences_count': 1}, {'sentence': 'Divenne anche corrispondente estero per \" The New Yorker \" .', 'target_words_in_it': ['The New Yorker'], 'occurrences_count': 1}, {'sentence': 'Durante il tour di Turn on the bright lights si occupa di entrambi gli strumenti anche dal vivo .', 'target_words_in_it': ['Turn on the bright lights'], 'occurrences_count': 1}]}, 'MYTH': {'real_name': 'entità mitologica', 'sentences': [{'sentence': \"Asclepio era il dio della salute nell' antico pantheon greco .\", 'target_words_in_it': ['Asclepio'], 'occurrences_count': 1}, {'sentence': 'Secondo eruditi locali settecenteschi sarebbe stato dedicato a Diana .', 'target_words_in_it': ['Diana'], 'occurrences_count': 1}, {'sentence': \"In questo testo veniva riportato l' arrivo di Enea nel Lazio e la storia di Romolo e Remo .\", 'target_words_in_it': ['Romolo e Remo', 'Enea'], 'occurrences_count': 2}]}, 'ORG': {'real_name': 'organizzazione', 'sentences': [{'sentence': \"Nell' estate del 2012 fa rientro all' Udinese diventando portiere titolare della prima squadra .\", 'target_words_in_it': ['Udinese'], 'occurrences_count': 1}, {'sentence': \"Cresciuto a Berlino , si laurea in filosofia presso l' Università Ebraica di Gerusalemme .\", 'target_words_in_it': ['Università Ebraica di Gerusalemme'], 'occurrences_count': 1}, {'sentence': 'La \" Kriegsmarine \" rispose prontamente identificando ed eliminando i difetti .', 'target_words_in_it': ['Kriegsmarine'], 'occurrences_count': 1}]}, 'PER': {'real_name': 'persona', 'sentences': [{'sentence': 'Altri grandi piloti ad usarlo furono Georges Guynemer , René Fonck e Eddie Rickenbacker .', 'target_words_in_it': ['Eddie Rickenbacker', 'Georges Guynemer', 'René Fonck'], 'occurrences_count': 3}, {'sentence': 'In questo periodo anche Kevin Ayers entra nel gruppo , di cui diviene membro occasionale .', 'target_words_in_it': ['Kevin Ayers'], 'occurrences_count': 1}, {'sentence': 'Qui conobbe il cantante e chitarrista João Gilberto , anche lui bahiano , che sposò nel 1959 .', 'target_words_in_it': ['João Gilberto'], 'occurrences_count': 1}]}, 'PLANT': {'real_name': 'pianta', 'sentences': [{'sentence': 'La vegetazione prevalente è composta da \" Suaeda vera \" .', 'target_words_in_it': ['Suaeda vera'], 'occurrences_count': 1}, {'sentence': 'È questo il limite meridionale dell\\' areale del faggio ( \" Fagus sylvatica \" ) .', 'target_words_in_it': ['Fagus sylvatica'], 'occurrences_count': 1}, {'sentence': 'Questa tribù comprende alberi , arbusti , subarbusti ed erbe perenni o annue .', 'target_words_in_it': ['arbusti', 'erbe', 'alberi'], 'occurrences_count': 3}]}, 'TIME': {'real_name': 'tempo', 'sentences': [{'sentence': 'Il primo trailer del film viene diffuso il 4 dicembre 2015 .', 'target_words_in_it': ['4 dicembre 2015'], 'occurrences_count': 1}, {'sentence': \"Nel 1938 compirono il loro unico viaggio all' estero , trascorrendo una settimana a Londra .\", 'target_words_in_it': ['1938'], 'occurrences_count': 1}, {'sentence': \"Attiguo alla parrocchiale è il campanile , risalente all' incirca all' inizio del XIX secolo .\", 'target_words_in_it': ['inizio del XIX secolo'], 'occurrences_count': 1}]}, 'VEHI': {'real_name': 'veicolo', 'sentences': [{'sentence': 'La DBR9 e la Vantage GT2 sono state invece riservate per la vendita a scuderie private .', 'target_words_in_it': ['DBR9', 'Vantage GT2'], 'occurrences_count': 2}, {'sentence': 'L\\' incrociatore da battaglia \" Akagi \" fu completato come portaerei .', 'target_words_in_it': ['Akagi'], 'occurrences_count': 1}, {'sentence': 'Il resto del corpo vettura era simile a quello delle TR4 / TR5 .', 'target_words_in_it': ['TR4'], 'occurrences_count': 1}]}}\n"
     ]
    }
   ],
   "source": [
    "sentences_per_ne_type_w_real_name = {}\n",
    "for ne in ne_types_list:\n",
    "    sentences = sentences_per_ne_type[ne]\n",
    "    sentences_per_ne_type_w_real_name[ne] = {\n",
    "        \"real_name\": extended_labels_map[ne],\n",
    "        \"sentences\": sentences\n",
    "    }\n",
    "\n",
    "print(sentences_per_ne_type_w_real_name)\n",
    "sentences_per_ne_type = sentences_per_ne_type_w_real_name"
   ]
  },
  {
   "cell_type": "code",
   "execution_count": 14,
   "metadata": {},
   "outputs": [
    {
     "name": "stdout",
     "output_type": "stream",
     "text": [
      "{'PER': 'persona', 'ORG': 'organizzazione', 'LOC': 'località', 'ANIM': 'animale', 'BIO': 'entità biologica', 'CEL': 'corpo celeste', 'DIS': 'malattia', 'EVE': 'evento', 'FOOD': 'cibo', 'INST': 'strumento', 'MEDIA': 'media', 'MYTH': 'entità mitologica', 'PLANT': 'pianta', 'TIME': 'tempo', 'VEHI': 'veicolo'}\n"
     ]
    }
   ],
   "source": [
    "print(extended_labels_map)"
   ]
  },
  {
   "cell_type": "code",
   "execution_count": 10,
   "metadata": {},
   "outputs": [],
   "source": [
    "def num_tokens_from_messages(messages, model=\"gpt-3.5-turbo-1106\"):\n",
    "    \"\"\"Return the number of tokens used in the input prompt.\"\"\"\n",
    "    try:\n",
    "        encoding = tiktoken.encoding_for_model(model)\n",
    "    except KeyError:\n",
    "        print(\"Warning: model not found. Using cl100k_base encoding.\")\n",
    "        encoding = tiktoken.get_encoding(\"cl100k_base\")\n",
    "    if model in {\n",
    "        \"gpt-3.5-turbo-0613\",\n",
    "        \"gpt-3.5-turbo-16k-0613\",\n",
    "        \"gpt-4-0314\",\n",
    "        \"gpt-4-32k-0314\",\n",
    "        \"gpt-4-0613\",\n",
    "        \"gpt-4-32k-0613\",\n",
    "        }:\n",
    "        tokens_per_message = 3\n",
    "        tokens_per_name = 1\n",
    "    elif model == \"gpt-3.5-turbo-0301\":\n",
    "        tokens_per_message = 4  # every message follows <|start|>{role/name}\\n{content}<|end|>\\n\n",
    "        tokens_per_name = -1  # if there's a name, the role is omitted\n",
    "    elif \"gpt-3.5-turbo\" in model:\n",
    "        # print(\"Warning: gpt-3.5-turbo may update over time. Returning num tokens assuming gpt-3.5-turbo-0613.\")\n",
    "        return num_tokens_from_messages(messages, model=\"gpt-3.5-turbo-0613\")\n",
    "    elif \"gpt-4\" in model:\n",
    "        print(\"Warning: gpt-4 may update over time. Returning num tokens assuming gpt-4-0613.\")\n",
    "        return num_tokens_from_messages(messages, model=\"gpt-4-0613\")\n",
    "    else:\n",
    "        raise NotImplementedError(\n",
    "            f\"\"\"num_tokens_from_messages() is not implemented for model {model}. See https://github.com/openai/openai-python/blob/main/chatml.md for information on how messages are converted to tokens.\"\"\"\n",
    "        )\n",
    "    num_tokens = 0\n",
    "    for message in messages:\n",
    "        num_tokens += tokens_per_message\n",
    "        for key, value in message.items():\n",
    "            num_tokens += len(encoding.encode(value))\n",
    "            if key == \"name\":\n",
    "                num_tokens += tokens_per_name\n",
    "    num_tokens += 3  # every reply is primed with <|start|>assistant<|message|>\n",
    "    return num_tokens"
   ]
  },
  {
   "cell_type": "markdown",
   "metadata": {},
   "source": [
    "# PROMPT formulation"
   ]
  },
  {
   "cell_type": "markdown",
   "metadata": {},
   "source": [
    "System message"
   ]
  },
  {
   "cell_type": "code",
   "execution_count": null,
   "metadata": {},
   "outputs": [],
   "source": [
    "system_message = \"You are a helpful NER data annotator designed to output JSON.\"  # OpenAI documentations suggest to write also here to output JSON"
   ]
  },
  {
   "cell_type": "markdown",
   "metadata": {},
   "source": [
    "creating 1st 'user_prompt' using 'location' as example "
   ]
  },
  {
   "cell_type": "code",
   "execution_count": null,
   "metadata": {},
   "outputs": [],
   "source": [
    "ne_type = 'location'\n",
    "#related_data = sentences_per_ne_type[ne_type]\n",
    "\n",
    "#example_prompt = data_handler_cross_NER.generate_structured_prompt(related_data)\n",
    "\n",
    "example_prompt = \"Named Entity: 'location'. Examples: [{'sentence': 'He was awarded honorary degree from the University of Cambridge in Cambridge , UK , and the Copley Medal of the Royal Society in 1906 .', 'entities': ['Cambridge']}, {'sentence': 'According to onlookers, the communicant told the priest: \\\"You're in Ireland now\\\".', 'entities': ['Ireland']}, {'sentence': 'The Big Bend Country is part of the larger Columbia Country , which includes the Columbia Valley and upper Arrow Lakes .', 'entities': ['Arrow Lakes', 'Columbia Country', 'Big Bend Country', 'Columbia Valley']}]. Hints: You should not label 'here', 'there' and similar as 'location' entities.\\nInstructions: 1. Provide a concise definition for the named entity 'location' in the context of NER. 2. Provide guidelines by specifying what entities should not be labeled as 'location' and include potential pitfalls to avoid. Go beyond generic terms and delve into nuanced scenarios. Be explicit about potential ambiguities and provide guidance on distinguishing 'location' from similar entities.\\nOutput in JSON format: {\\\"Definition\\\": \\\"\\\", \\\"Guidelines\\\": \\\"\\\"}.\"\n",
    "\n",
    "print(\"example_prompt:\\n\")\n",
    "print(example_prompt)"
   ]
  },
  {
   "cell_type": "markdown",
   "metadata": {},
   "source": [
    "What would look like a desired gpt's answer"
   ]
  },
  {
   "cell_type": "code",
   "execution_count": null,
   "metadata": {},
   "outputs": [],
   "source": [
    "example_answer = \"{\\\"Definition\\\": \\\"\\'location\\' denotes geographic entities, such as cities, countries, and landmarks, that represent specific places on Earth.\\\", \\\"Guidelines\\\": \\\"Do not label abstract references. Be cautious with ambiguous terms like 'Paris Hilton' (person with a location name) or 'Amazon' (both a company and a river).\" # Be cautious with terms that may refer to both people and places, like 'Jordan' (person or country).\\\"}\"\n",
    "print(\"example answer:\")\n",
    "print(example_answer)"
   ]
  },
  {
   "cell_type": "markdown",
   "metadata": {},
   "source": [
    "The real prompt for the desired NE "
   ]
  },
  {
   "cell_type": "code",
   "execution_count": null,
   "metadata": {},
   "outputs": [],
   "source": [
    "ne_type = 'Advisors.GENERIC_CONSULTING_COMPANY'  # pick any NE\n",
    "ex_sentences = sentences_per_ne_type[ne_type]['sentences']\n",
    "ex_sentences_json = []\n",
    "for exsent in ex_sentences:\n",
    "    ex_sentences_json.append({'sentence': exsent['sentence'], 'entities': exsent['target_words_in_it']})\n",
    "real_prompt = f\"Now do the same for the Named Entity: \\'{sentences_per_ne_type[ne_type]['real_name']}\\', Examples: {ex_sentences_json}\"\n",
    "\n",
    "print(\"real prompt: \")\n",
    "print(real_prompt)"
   ]
  },
  {
   "cell_type": "code",
   "execution_count": null,
   "metadata": {},
   "outputs": [],
   "source": [
    "messages_to_send = [\n",
    "    {\n",
    "        \"role\": \"system\",\n",
    "        \"content\": system_message\n",
    "    },\n",
    "    {\n",
    "        \"role\": \"user\",\n",
    "        \"content\": example_prompt\n",
    "    },\n",
    "    {\n",
    "        \"role\": \"system\",\n",
    "        \"content\": example_answer\n",
    "    },\n",
    "    {\n",
    "        \"role\": \"user\",\n",
    "        \"content\": real_prompt\n",
    "    }\n",
    "]"
   ]
  },
  {
   "cell_type": "code",
   "execution_count": null,
   "metadata": {},
   "outputs": [],
   "source": [
    "n_input_tokens = num_tokens_from_messages(messages_to_send, gpt_model)\n",
    "print(f\"The input prompt has length in tokens: {n_input_tokens}\")"
   ]
  },
  {
   "cell_type": "code",
   "execution_count": null,
   "metadata": {},
   "outputs": [],
   "source": [
    "print(messages_to_send)"
   ]
  },
  {
   "cell_type": "markdown",
   "metadata": {},
   "source": [
    "### Pack it in 1 function"
   ]
  },
  {
   "cell_type": "code",
   "execution_count": 32,
   "metadata": {},
   "outputs": [],
   "source": [
    "def get_json_definition_for_ne(named_entity, sentences_per_ne_type, gpt_model_name, max_output_tokens):\n",
    "    # system message\n",
    "    system_message = \"Sei un esperto annotatore per la Named Entity Recognition, progettato per produrre output in formato JSON.\"\n",
    "    # user prompt example on location\n",
    "    example_prompt = \"Tipo di entità: 'luogo'. Esempi: [{'frase': 'George Washington, nato in Virginia, è stato il primo presidente degli USA.', 'entità': ['Virginia']}, {'frase': 'Sono stato molte volte in vacanza a Napoli, in Italia', 'entità': ['Napoli', 'Italia']}, {'frase': 'Siamo andati in vacanza a Ginevra e abbiamo visitato l'ONU.', 'entità': ['Ginevra']}]. \\nIstruzioni: 1. Fornisci una breve definizione per il tipo di entità 'luogo' nel contesto della NER. 2. Fornisci linee guida specificando quali entità non dovrebbero essere etichettate come 'luogo' e includi esempi di potenziali insidie. Vai oltre i termini generici e approfondisci scenari dettagliati. Sii esplicito riguardo alle potenziali ambiguità e fornisci indicazioni su come distinguere 'luogo' da entità simili.\\nOutput in formato JSON: {\\\"Definition\\\": \\\"\\\", \\\"Guidelines\\\": \\\"\\\"}.\"\n",
    "    # example answer\n",
    "    example_answer = \"{\\\"Definition\\\": \\\"\\'luogo\\' denota luoghi geografici come città, paesi, stati, regioni, continenti, punti di interesse naturale, e indirizzi specifici.\\\", \\\"Guidelines\\\": \\\"Assicurati di non confondere i nomi di luoghi con altre entità. Ad esempio, 'Washington', potrebbe riferirsi alla città di Washington D.C. o al presidente George Washington, quindi considera attentamente il contesto. Escludi nomi di periodi storici, eventi o concetti astratti che non rappresentano luoghi fisici. Ad esempio, 'nel Rinascimento' è un periodo storico, non un luogo geografico.\\\"}\"\n",
    "    # real prompt\n",
    "    exemplary_data = sentences_per_ne_type[named_entity]\n",
    "    ex_sentences = exemplary_data['sentences']\n",
    "    real_ne_name = exemplary_data['real_name']\n",
    "    ex_sentences_json = []\n",
    "    for exsent in ex_sentences:\n",
    "        ex_sentences_json.append({'frase': exsent['sentence'], 'entità': exsent['target_words_in_it']})\n",
    "    real_prompt = f\"Ora fai lo stesso per il tipo di entità: \\'{real_ne_name}\\', Esempi: {ex_sentences_json}\"\n",
    "    if 'Hints' in exemplary_data and exemplary_data['Hints'] != \"\":\n",
    "        real_prompt += f\". Suggerimenti: {exemplary_data['Hints']}\\n\"\n",
    "\n",
    "    # message to send\n",
    "    messages_to_send = [\n",
    "    {\n",
    "        \"role\": \"system\",\n",
    "        \"content\": system_message\n",
    "    },\n",
    "    {\n",
    "        \"role\": \"user\",\n",
    "        \"content\": example_prompt\n",
    "    },\n",
    "    {\n",
    "        \"role\": \"system\",\n",
    "        \"content\": example_answer\n",
    "    },\n",
    "    {\n",
    "        \"role\": \"user\",\n",
    "        \"content\": real_prompt\n",
    "    }\n",
    "    ]\n",
    "\n",
    "    n_input_tokens = num_tokens_from_messages(messages_to_send, gpt_model)\n",
    "    print(messages_to_send)\n",
    "\n",
    "    #for message in messages_to_send:\n",
    "    #print(message)\n",
    "    \n",
    "    if n_input_tokens > 1000:\n",
    "        raise ValueError(f\"Too many input tokens in messages_to_send: {len(messages_to_send)}, {messages_to_send}\")\n",
    "\n",
    "    print(f\"Sending prompt for NE: {named_entity}...\")\n",
    "    \n",
    "    completion = client.chat.completions.create(\n",
    "        messages=messages_to_send,\n",
    "        model=gpt_model_name,\n",
    "        max_tokens=max_output_tokens,\n",
    "        response_format={ \"type\": \"json_object\" }\n",
    "    )\n",
    "\n",
    "    choice = completion.choices[0]\n",
    "    finish_reason = choice.finish_reason\n",
    "    message = choice.message.content\n",
    "\n",
    "    #if finish_reason == 'length' and message[-2:] != \"\\\"}\":\n",
    "        #message += \"\\\"}\"\n",
    "\n",
    "    return {\"ne_tag\": named_entity,\n",
    "            \"real_name\": real_ne_name,\n",
    "            \"sentences_as_example\": ex_sentences_json,\n",
    "            \"prompt_length\": completion.usage.prompt_tokens,\n",
    "            \"output_length\": completion.usage.completion_tokens,\n",
    "            \"gpt_DeG\": message,\n",
    "            \"finish_reason\": finish_reason\n",
    "            }\n",
    "    "
   ]
  },
  {
   "cell_type": "code",
   "execution_count": 29,
   "metadata": {},
   "outputs": [
    {
     "name": "stdout",
     "output_type": "stream",
     "text": [
      "[{'role': 'system', 'content': 'Sei un esperto annotatore per la Named Entity Recognition, progettato per produrre output in formato JSON.'}, {'role': 'user', 'content': 'Tipo di entità: \\'luogo\\'. Esempi: [{\\'frase\\': \\'George Washington, nato in Virginia, è stato il primo presidente degli USA.\\', \\'entità\\': [\\'Virginia\\']}, {\\'frase\\': \\'Sono stato molte volte in vacanza a Napoli, in Italia\\', \\'entità\\': [\\'Napoli\\', \\'Italia\\']}, {\\'frase\\': \\'Siamo andati in vacanza a Ginevra e abbiamo visitato l\\'ONU.\\', \\'entità\\': [\\'Ginevra\\']}]. \\nIstruzioni: 1. Fornisci una breve definizione per il tipo di entità \\'luogo\\' nel contesto della NER. 2. Fornisci linee guida specificando quali entità non dovrebbero essere etichettate come \\'luogo\\' e includi esempi di potenziali insidie. Vai oltre i termini generici e approfondisci scenari dettagliati. Sii esplicito riguardo alle potenziali ambiguità e fornisci indicazioni su come distinguere \\'luogo\\' da entità simili.\\nOutput in formato JSON: {\"Definition\": \"\", \"Guidelines\": \"\"}.'}, {'role': 'system', 'content': '{\"Definition\": \"\\'luogo\\' denota nomi propri di luoghi geografici, comprendendo città, paesi, stati, regioni, continenti, punti di interesse naturale, e indirizzi specifici.\", \"Guidelines\": \"Assicurati di non confondere i nomi di luoghi con altre entità. Ad esempio, \\'Washington\\', potrebbe riferirsi alla città di Washington D.C. o al presidente George Washington, quindi considera attentamente il contesto. Escludi nomi di periodi storici, eventi o concetti astratti che non rappresentano luoghi fisici. Ad esempio, \\'nel Rinascimento\\' è un periodo storico, non un luogo geografico.\"}'}, {'role': 'user', 'content': 'Ora fai lo stesso per il tipo di entità: \\'animale\\', Esempi: [{\\'frase\\': \\'Tra i mammiferi , è presente il rinolofo euriale ( \" Rhinolophus euryale \" ) , un chirottero .\\', \\'entità\\': [\\'Rhinolophus euryale\\']}, {\\'frase\\': \\'Il fiume in queste zone ospita una grande popolazioni di ippopotami .\\', \\'entità\\': [\\'ippopotami\\']}, {\\'frase\\': \\'Tra le specie maggiormente predate i primati di piccola taglia come il Lori lento .\\', \\'entità\\': [\\'Lori lento\\']}]'}]\n",
      "Sending prompt for NE: ANIM...\n",
      "{'ne_tag': 'ANIM', 'real_name': 'animale', 'sentences_as_example': [{'frase': 'Tra i mammiferi , è presente il rinolofo euriale ( \" Rhinolophus euryale \" ) , un chirottero .', 'entità': ['Rhinolophus euryale']}, {'frase': 'Il fiume in queste zone ospita una grande popolazioni di ippopotami .', 'entità': ['ippopotami']}, {'frase': 'Tra le specie maggiormente predate i primati di piccola taglia come il Lori lento .', 'entità': ['Lori lento']}], 'prompt_length': 619, 'output_length': 159, 'gpt_DeG': '{\"Definition\": \"\\'animale\\' si riferisce a nomi di specie animali, tra cui mammiferi, rettili, uccelli, pesci, insetti e altri organismi animali.\", \"Guidelines\": \"Evita di etichettare nomi di persona o personaggi immaginari come entità \\'animale\\', anche se sono associati ad animali (es. \\'Peter Rabbit\\'). Inoltre, fai attenzione a non etichettare termini generici che potrebbero riferirsi a persone, come \\'Joe\\' o \\'Jack\\', come entità \\'animale\\' se non è chiaro dal contesto che si tratta di un nome di specie animale.\"}', 'finish_reason': 'stop'}\n"
     ]
    }
   ],
   "source": [
    "ne_definition = get_json_definition_for_ne('ANIM', sentences_per_ne_type, gpt_model, max_output_tokens=300)\n",
    "print(ne_definition)"
   ]
  },
  {
   "cell_type": "markdown",
   "metadata": {},
   "source": [
    "### get all definitions"
   ]
  },
  {
   "cell_type": "code",
   "execution_count": 33,
   "metadata": {},
   "outputs": [
    {
     "name": "stdout",
     "output_type": "stream",
     "text": [
      "[{'role': 'system', 'content': 'Sei un esperto annotatore per la Named Entity Recognition, progettato per produrre output in formato JSON.'}, {'role': 'user', 'content': 'Tipo di entità: \\'luogo\\'. Esempi: [{\\'frase\\': \\'George Washington, nato in Virginia, è stato il primo presidente degli USA.\\', \\'entità\\': [\\'Virginia\\']}, {\\'frase\\': \\'Sono stato molte volte in vacanza a Napoli, in Italia\\', \\'entità\\': [\\'Napoli\\', \\'Italia\\']}, {\\'frase\\': \\'Siamo andati in vacanza a Ginevra e abbiamo visitato l\\'ONU.\\', \\'entità\\': [\\'Ginevra\\']}]. \\nIstruzioni: 1. Fornisci una breve definizione per il tipo di entità \\'luogo\\' nel contesto della NER. 2. Fornisci linee guida specificando quali entità non dovrebbero essere etichettate come \\'luogo\\' e includi esempi di potenziali insidie. Vai oltre i termini generici e approfondisci scenari dettagliati. Sii esplicito riguardo alle potenziali ambiguità e fornisci indicazioni su come distinguere \\'luogo\\' da entità simili.\\nOutput in formato JSON: {\"Definition\": \"\", \"Guidelines\": \"\"}.'}, {'role': 'system', 'content': '{\"Definition\": \"\\'luogo\\' denota luoghi geografici come città, paesi, stati, regioni, continenti, punti di interesse naturale, e indirizzi specifici.\", \"Guidelines\": \"Assicurati di non confondere i nomi di luoghi con altre entità. Ad esempio, \\'Washington\\', potrebbe riferirsi alla città di Washington D.C. o al presidente George Washington, quindi considera attentamente il contesto. Escludi nomi di periodi storici, eventi o concetti astratti che non rappresentano luoghi fisici. Ad esempio, \\'nel Rinascimento\\' è un periodo storico, non un luogo geografico.\"}'}, {'role': 'user', 'content': 'Ora fai lo stesso per il tipo di entità: \\'animale\\', Esempi: [{\\'frase\\': \\'Tra i mammiferi , è presente il rinolofo euriale ( \" Rhinolophus euryale \" ) , un chirottero .\\', \\'entità\\': [\\'Rhinolophus euryale\\']}, {\\'frase\\': \\'Il fiume in queste zone ospita una grande popolazioni di ippopotami .\\', \\'entità\\': [\\'ippopotami\\']}, {\\'frase\\': \\'Tra le specie maggiormente predate i primati di piccola taglia come il Lori lento .\\', \\'entità\\': [\\'Lori lento\\']}]'}]\n",
      "Sending prompt for NE: ANIM...\n",
      "[{'role': 'system', 'content': 'Sei un esperto annotatore per la Named Entity Recognition, progettato per produrre output in formato JSON.'}, {'role': 'user', 'content': 'Tipo di entità: \\'luogo\\'. Esempi: [{\\'frase\\': \\'George Washington, nato in Virginia, è stato il primo presidente degli USA.\\', \\'entità\\': [\\'Virginia\\']}, {\\'frase\\': \\'Sono stato molte volte in vacanza a Napoli, in Italia\\', \\'entità\\': [\\'Napoli\\', \\'Italia\\']}, {\\'frase\\': \\'Siamo andati in vacanza a Ginevra e abbiamo visitato l\\'ONU.\\', \\'entità\\': [\\'Ginevra\\']}]. \\nIstruzioni: 1. Fornisci una breve definizione per il tipo di entità \\'luogo\\' nel contesto della NER. 2. Fornisci linee guida specificando quali entità non dovrebbero essere etichettate come \\'luogo\\' e includi esempi di potenziali insidie. Vai oltre i termini generici e approfondisci scenari dettagliati. Sii esplicito riguardo alle potenziali ambiguità e fornisci indicazioni su come distinguere \\'luogo\\' da entità simili.\\nOutput in formato JSON: {\"Definition\": \"\", \"Guidelines\": \"\"}.'}, {'role': 'system', 'content': '{\"Definition\": \"\\'luogo\\' denota luoghi geografici come città, paesi, stati, regioni, continenti, punti di interesse naturale, e indirizzi specifici.\", \"Guidelines\": \"Assicurati di non confondere i nomi di luoghi con altre entità. Ad esempio, \\'Washington\\', potrebbe riferirsi alla città di Washington D.C. o al presidente George Washington, quindi considera attentamente il contesto. Escludi nomi di periodi storici, eventi o concetti astratti che non rappresentano luoghi fisici. Ad esempio, \\'nel Rinascimento\\' è un periodo storico, non un luogo geografico.\"}'}, {'role': 'user', 'content': 'Ora fai lo stesso per il tipo di entità: \\'entità biologica\\', Esempi: [{\\'frase\\': \\'Le macchie nere sulle foglie sono causate dal Colletotrichum .\\', \\'entità\\': [\\'Colletotrichum\\']}, {\\'frase\\': \\'Un piccolo numero di lieviti come la \" Candida albicans \", può causare infezioni nell\\\\\\'uomo.\\', \\'entità\\': [\\'Candida albicans\\']}, {\\'frase\\': \\'Il genere è stato introdotto nel 1998 come \" genere dei virus che somigliano al virus Ebola \" .\\', \\'entità\\': [\\'virus Ebola\\']}]'}]\n",
      "Sending prompt for NE: BIO...\n",
      "[{'role': 'system', 'content': 'Sei un esperto annotatore per la Named Entity Recognition, progettato per produrre output in formato JSON.'}, {'role': 'user', 'content': 'Tipo di entità: \\'luogo\\'. Esempi: [{\\'frase\\': \\'George Washington, nato in Virginia, è stato il primo presidente degli USA.\\', \\'entità\\': [\\'Virginia\\']}, {\\'frase\\': \\'Sono stato molte volte in vacanza a Napoli, in Italia\\', \\'entità\\': [\\'Napoli\\', \\'Italia\\']}, {\\'frase\\': \\'Siamo andati in vacanza a Ginevra e abbiamo visitato l\\'ONU.\\', \\'entità\\': [\\'Ginevra\\']}]. \\nIstruzioni: 1. Fornisci una breve definizione per il tipo di entità \\'luogo\\' nel contesto della NER. 2. Fornisci linee guida specificando quali entità non dovrebbero essere etichettate come \\'luogo\\' e includi esempi di potenziali insidie. Vai oltre i termini generici e approfondisci scenari dettagliati. Sii esplicito riguardo alle potenziali ambiguità e fornisci indicazioni su come distinguere \\'luogo\\' da entità simili.\\nOutput in formato JSON: {\"Definition\": \"\", \"Guidelines\": \"\"}.'}, {'role': 'system', 'content': '{\"Definition\": \"\\'luogo\\' denota luoghi geografici come città, paesi, stati, regioni, continenti, punti di interesse naturale, e indirizzi specifici.\", \"Guidelines\": \"Assicurati di non confondere i nomi di luoghi con altre entità. Ad esempio, \\'Washington\\', potrebbe riferirsi alla città di Washington D.C. o al presidente George Washington, quindi considera attentamente il contesto. Escludi nomi di periodi storici, eventi o concetti astratti che non rappresentano luoghi fisici. Ad esempio, \\'nel Rinascimento\\' è un periodo storico, non un luogo geografico.\"}'}, {'role': 'user', 'content': 'Ora fai lo stesso per il tipo di entità: \\'corpo celeste\\', Esempi: [{\\'frase\\': \\'Questa è una lista degli \" anelli di Urano \" a cui è stato dato un nome .\\', \\'entità\\': [\\'anelli di Urano\\']}, {\\'frase\\': \\'\" NGC 5746 \" è una galassia a spirale barrata della costellazione della Vergine .\\', \\'entità\\': [\\'NGC 5746\\', \\'costellazione della Vergine\\', \\'galassia a spirale barrata\\']}, {\\'frase\\': \\'Il Sole entra nel segno astrologico della Vergine alle ore 02:36 .\\', \\'entità\\': [\\'Vergine\\', \\'Sole\\']}]'}]\n",
      "Sending prompt for NE: CEL...\n",
      "[{'role': 'system', 'content': 'Sei un esperto annotatore per la Named Entity Recognition, progettato per produrre output in formato JSON.'}, {'role': 'user', 'content': 'Tipo di entità: \\'luogo\\'. Esempi: [{\\'frase\\': \\'George Washington, nato in Virginia, è stato il primo presidente degli USA.\\', \\'entità\\': [\\'Virginia\\']}, {\\'frase\\': \\'Sono stato molte volte in vacanza a Napoli, in Italia\\', \\'entità\\': [\\'Napoli\\', \\'Italia\\']}, {\\'frase\\': \\'Siamo andati in vacanza a Ginevra e abbiamo visitato l\\'ONU.\\', \\'entità\\': [\\'Ginevra\\']}]. \\nIstruzioni: 1. Fornisci una breve definizione per il tipo di entità \\'luogo\\' nel contesto della NER. 2. Fornisci linee guida specificando quali entità non dovrebbero essere etichettate come \\'luogo\\' e includi esempi di potenziali insidie. Vai oltre i termini generici e approfondisci scenari dettagliati. Sii esplicito riguardo alle potenziali ambiguità e fornisci indicazioni su come distinguere \\'luogo\\' da entità simili.\\nOutput in formato JSON: {\"Definition\": \"\", \"Guidelines\": \"\"}.'}, {'role': 'system', 'content': '{\"Definition\": \"\\'luogo\\' denota luoghi geografici come città, paesi, stati, regioni, continenti, punti di interesse naturale, e indirizzi specifici.\", \"Guidelines\": \"Assicurati di non confondere i nomi di luoghi con altre entità. Ad esempio, \\'Washington\\', potrebbe riferirsi alla città di Washington D.C. o al presidente George Washington, quindi considera attentamente il contesto. Escludi nomi di periodi storici, eventi o concetti astratti che non rappresentano luoghi fisici. Ad esempio, \\'nel Rinascimento\\' è un periodo storico, non un luogo geografico.\"}'}, {'role': 'user', 'content': \"Ora fai lo stesso per il tipo di entità: 'malattia', Esempi: [{'frase': 'La formazione di fistole artero-venose polmonari può portare a una sindrome cianotica .', 'entità': ['fistole artero-venose polmonari']}, {'frase': 'Oltre questa distanza , è in atto convenzionalmente la patologia chiamata presbiopia .', 'entità': ['presbiopia']}, {'frase': 'Le loro caratteristiche variano a seconda delle ansie , delle paure o degli obiettivi del bambino .', 'entità': ['ansie']}]\"}]\n",
      "Sending prompt for NE: DIS...\n",
      "[{'role': 'system', 'content': 'Sei un esperto annotatore per la Named Entity Recognition, progettato per produrre output in formato JSON.'}, {'role': 'user', 'content': 'Tipo di entità: \\'luogo\\'. Esempi: [{\\'frase\\': \\'George Washington, nato in Virginia, è stato il primo presidente degli USA.\\', \\'entità\\': [\\'Virginia\\']}, {\\'frase\\': \\'Sono stato molte volte in vacanza a Napoli, in Italia\\', \\'entità\\': [\\'Napoli\\', \\'Italia\\']}, {\\'frase\\': \\'Siamo andati in vacanza a Ginevra e abbiamo visitato l\\'ONU.\\', \\'entità\\': [\\'Ginevra\\']}]. \\nIstruzioni: 1. Fornisci una breve definizione per il tipo di entità \\'luogo\\' nel contesto della NER. 2. Fornisci linee guida specificando quali entità non dovrebbero essere etichettate come \\'luogo\\' e includi esempi di potenziali insidie. Vai oltre i termini generici e approfondisci scenari dettagliati. Sii esplicito riguardo alle potenziali ambiguità e fornisci indicazioni su come distinguere \\'luogo\\' da entità simili.\\nOutput in formato JSON: {\"Definition\": \"\", \"Guidelines\": \"\"}.'}, {'role': 'system', 'content': '{\"Definition\": \"\\'luogo\\' denota luoghi geografici come città, paesi, stati, regioni, continenti, punti di interesse naturale, e indirizzi specifici.\", \"Guidelines\": \"Assicurati di non confondere i nomi di luoghi con altre entità. Ad esempio, \\'Washington\\', potrebbe riferirsi alla città di Washington D.C. o al presidente George Washington, quindi considera attentamente il contesto. Escludi nomi di periodi storici, eventi o concetti astratti che non rappresentano luoghi fisici. Ad esempio, \\'nel Rinascimento\\' è un periodo storico, non un luogo geografico.\"}'}, {'role': 'user', 'content': \"Ora fai lo stesso per il tipo di entità: 'evento', Esempi: [{'frase': 'La pellicola è stata presentata al Sundance Film Festival il 23 gennaio 2015 .', 'entità': ['Sundance Film Festival']}, {'frase': 'Prese poi parte , senza grandi pretese , al Tour de France .', 'entità': ['Tour de France']}, {'frase': 'Nel 2008 viene convocato per gli Europei in Austria e Svizzera .', 'entità': ['Europei']}]\"}]\n",
      "Sending prompt for NE: EVE...\n",
      "[{'role': 'system', 'content': 'Sei un esperto annotatore per la Named Entity Recognition, progettato per produrre output in formato JSON.'}, {'role': 'user', 'content': 'Tipo di entità: \\'luogo\\'. Esempi: [{\\'frase\\': \\'George Washington, nato in Virginia, è stato il primo presidente degli USA.\\', \\'entità\\': [\\'Virginia\\']}, {\\'frase\\': \\'Sono stato molte volte in vacanza a Napoli, in Italia\\', \\'entità\\': [\\'Napoli\\', \\'Italia\\']}, {\\'frase\\': \\'Siamo andati in vacanza a Ginevra e abbiamo visitato l\\'ONU.\\', \\'entità\\': [\\'Ginevra\\']}]. \\nIstruzioni: 1. Fornisci una breve definizione per il tipo di entità \\'luogo\\' nel contesto della NER. 2. Fornisci linee guida specificando quali entità non dovrebbero essere etichettate come \\'luogo\\' e includi esempi di potenziali insidie. Vai oltre i termini generici e approfondisci scenari dettagliati. Sii esplicito riguardo alle potenziali ambiguità e fornisci indicazioni su come distinguere \\'luogo\\' da entità simili.\\nOutput in formato JSON: {\"Definition\": \"\", \"Guidelines\": \"\"}.'}, {'role': 'system', 'content': '{\"Definition\": \"\\'luogo\\' denota luoghi geografici come città, paesi, stati, regioni, continenti, punti di interesse naturale, e indirizzi specifici.\", \"Guidelines\": \"Assicurati di non confondere i nomi di luoghi con altre entità. Ad esempio, \\'Washington\\', potrebbe riferirsi alla città di Washington D.C. o al presidente George Washington, quindi considera attentamente il contesto. Escludi nomi di periodi storici, eventi o concetti astratti che non rappresentano luoghi fisici. Ad esempio, \\'nel Rinascimento\\' è un periodo storico, non un luogo geografico.\"}'}, {'role': 'user', 'content': \"Ora fai lo stesso per il tipo di entità: 'cibo', Esempi: [{'frase': 'Sono piante visitate dalle api per la produzione di miele di melata .', 'entità': ['miele']}, {'frase': 'È ovoviviparo e gli embrioni si nutrono solamente di tuorlo .', 'entità': ['tuorlo']}, {'frase': 'Viene fritta in olio , poi immersa nel miele e poi vengono aggiunti i semi di sesamo .', 'entità': ['olio', 'miele', 'semi di sesamo']}]\"}]\n",
      "Sending prompt for NE: FOOD...\n",
      "[{'role': 'system', 'content': 'Sei un esperto annotatore per la Named Entity Recognition, progettato per produrre output in formato JSON.'}, {'role': 'user', 'content': 'Tipo di entità: \\'luogo\\'. Esempi: [{\\'frase\\': \\'George Washington, nato in Virginia, è stato il primo presidente degli USA.\\', \\'entità\\': [\\'Virginia\\']}, {\\'frase\\': \\'Sono stato molte volte in vacanza a Napoli, in Italia\\', \\'entità\\': [\\'Napoli\\', \\'Italia\\']}, {\\'frase\\': \\'Siamo andati in vacanza a Ginevra e abbiamo visitato l\\'ONU.\\', \\'entità\\': [\\'Ginevra\\']}]. \\nIstruzioni: 1. Fornisci una breve definizione per il tipo di entità \\'luogo\\' nel contesto della NER. 2. Fornisci linee guida specificando quali entità non dovrebbero essere etichettate come \\'luogo\\' e includi esempi di potenziali insidie. Vai oltre i termini generici e approfondisci scenari dettagliati. Sii esplicito riguardo alle potenziali ambiguità e fornisci indicazioni su come distinguere \\'luogo\\' da entità simili.\\nOutput in formato JSON: {\"Definition\": \"\", \"Guidelines\": \"\"}.'}, {'role': 'system', 'content': '{\"Definition\": \"\\'luogo\\' denota luoghi geografici come città, paesi, stati, regioni, continenti, punti di interesse naturale, e indirizzi specifici.\", \"Guidelines\": \"Assicurati di non confondere i nomi di luoghi con altre entità. Ad esempio, \\'Washington\\', potrebbe riferirsi alla città di Washington D.C. o al presidente George Washington, quindi considera attentamente il contesto. Escludi nomi di periodi storici, eventi o concetti astratti che non rappresentano luoghi fisici. Ad esempio, \\'nel Rinascimento\\' è un periodo storico, non un luogo geografico.\"}'}, {'role': 'user', 'content': 'Ora fai lo stesso per il tipo di entità: \\'strumento\\', Esempi: [{\\'frase\\': \"A gennaio 1977 , e le vendite dei suoi computer , tra cui l\\' Apple II , crebbero rapidamente .\", \\'entità\\': [\\'Apple II\\']}, {\\'frase\\': \\'è disponibile in due versioni : in Java e in Flash .\\', \\'entità\\': [\\'Flash\\']}, {\\'frase\\': \\'La console legge anche CD-ROM , Super Audio CD e DVD-ROM .\\', \\'entità\\': [\\'CD-ROM\\', \\'Super Audio CD\\', \\'DVD-ROM\\']}]'}]\n",
      "Sending prompt for NE: INST...\n",
      "[{'role': 'system', 'content': 'Sei un esperto annotatore per la Named Entity Recognition, progettato per produrre output in formato JSON.'}, {'role': 'user', 'content': 'Tipo di entità: \\'luogo\\'. Esempi: [{\\'frase\\': \\'George Washington, nato in Virginia, è stato il primo presidente degli USA.\\', \\'entità\\': [\\'Virginia\\']}, {\\'frase\\': \\'Sono stato molte volte in vacanza a Napoli, in Italia\\', \\'entità\\': [\\'Napoli\\', \\'Italia\\']}, {\\'frase\\': \\'Siamo andati in vacanza a Ginevra e abbiamo visitato l\\'ONU.\\', \\'entità\\': [\\'Ginevra\\']}]. \\nIstruzioni: 1. Fornisci una breve definizione per il tipo di entità \\'luogo\\' nel contesto della NER. 2. Fornisci linee guida specificando quali entità non dovrebbero essere etichettate come \\'luogo\\' e includi esempi di potenziali insidie. Vai oltre i termini generici e approfondisci scenari dettagliati. Sii esplicito riguardo alle potenziali ambiguità e fornisci indicazioni su come distinguere \\'luogo\\' da entità simili.\\nOutput in formato JSON: {\"Definition\": \"\", \"Guidelines\": \"\"}.'}, {'role': 'system', 'content': '{\"Definition\": \"\\'luogo\\' denota luoghi geografici come città, paesi, stati, regioni, continenti, punti di interesse naturale, e indirizzi specifici.\", \"Guidelines\": \"Assicurati di non confondere i nomi di luoghi con altre entità. Ad esempio, \\'Washington\\', potrebbe riferirsi alla città di Washington D.C. o al presidente George Washington, quindi considera attentamente il contesto. Escludi nomi di periodi storici, eventi o concetti astratti che non rappresentano luoghi fisici. Ad esempio, \\'nel Rinascimento\\' è un periodo storico, non un luogo geografico.\"}'}, {'role': 'user', 'content': 'Ora fai lo stesso per il tipo di entità: \\'località\\', Esempi: [{\\'frase\\': \\'La massima altitudine è la cima Carega ( 2259 \" m ) .\\', \\'entità\\': [\\'cima Carega\\']}, {\\'frase\\': \"Protagonista una ristretta cerchia di conoscenti dell\\' Oregon .\", \\'entità\\': [\\'Oregon\\']}, {\\'frase\\': \"Nel 2002 lanciano un\\' iniziativa contro lo sfruttamento della prostituzione minorile in Indocina .\", \\'entità\\': [\\'Indocina\\']}]'}]\n",
      "Sending prompt for NE: LOC...\n",
      "[{'role': 'system', 'content': 'Sei un esperto annotatore per la Named Entity Recognition, progettato per produrre output in formato JSON.'}, {'role': 'user', 'content': 'Tipo di entità: \\'luogo\\'. Esempi: [{\\'frase\\': \\'George Washington, nato in Virginia, è stato il primo presidente degli USA.\\', \\'entità\\': [\\'Virginia\\']}, {\\'frase\\': \\'Sono stato molte volte in vacanza a Napoli, in Italia\\', \\'entità\\': [\\'Napoli\\', \\'Italia\\']}, {\\'frase\\': \\'Siamo andati in vacanza a Ginevra e abbiamo visitato l\\'ONU.\\', \\'entità\\': [\\'Ginevra\\']}]. \\nIstruzioni: 1. Fornisci una breve definizione per il tipo di entità \\'luogo\\' nel contesto della NER. 2. Fornisci linee guida specificando quali entità non dovrebbero essere etichettate come \\'luogo\\' e includi esempi di potenziali insidie. Vai oltre i termini generici e approfondisci scenari dettagliati. Sii esplicito riguardo alle potenziali ambiguità e fornisci indicazioni su come distinguere \\'luogo\\' da entità simili.\\nOutput in formato JSON: {\"Definition\": \"\", \"Guidelines\": \"\"}.'}, {'role': 'system', 'content': '{\"Definition\": \"\\'luogo\\' denota luoghi geografici come città, paesi, stati, regioni, continenti, punti di interesse naturale, e indirizzi specifici.\", \"Guidelines\": \"Assicurati di non confondere i nomi di luoghi con altre entità. Ad esempio, \\'Washington\\', potrebbe riferirsi alla città di Washington D.C. o al presidente George Washington, quindi considera attentamente il contesto. Escludi nomi di periodi storici, eventi o concetti astratti che non rappresentano luoghi fisici. Ad esempio, \\'nel Rinascimento\\' è un periodo storico, non un luogo geografico.\"}'}, {'role': 'user', 'content': 'Ora fai lo stesso per il tipo di entità: \\'media\\', Esempi: [{\\'frase\\': \\'Il nuovo album si intitolerà \" Hollywood Trash \" e verrà realizzato nel 2001 .\\', \\'entità\\': [\\'Hollywood Trash\\']}, {\\'frase\\': \\'Divenne anche corrispondente estero per \" The New Yorker \" .\\', \\'entità\\': [\\'The New Yorker\\']}, {\\'frase\\': \\'Durante il tour di Turn on the bright lights si occupa di entrambi gli strumenti anche dal vivo .\\', \\'entità\\': [\\'Turn on the bright lights\\']}]'}]\n",
      "Sending prompt for NE: MEDIA...\n",
      "[{'role': 'system', 'content': 'Sei un esperto annotatore per la Named Entity Recognition, progettato per produrre output in formato JSON.'}, {'role': 'user', 'content': 'Tipo di entità: \\'luogo\\'. Esempi: [{\\'frase\\': \\'George Washington, nato in Virginia, è stato il primo presidente degli USA.\\', \\'entità\\': [\\'Virginia\\']}, {\\'frase\\': \\'Sono stato molte volte in vacanza a Napoli, in Italia\\', \\'entità\\': [\\'Napoli\\', \\'Italia\\']}, {\\'frase\\': \\'Siamo andati in vacanza a Ginevra e abbiamo visitato l\\'ONU.\\', \\'entità\\': [\\'Ginevra\\']}]. \\nIstruzioni: 1. Fornisci una breve definizione per il tipo di entità \\'luogo\\' nel contesto della NER. 2. Fornisci linee guida specificando quali entità non dovrebbero essere etichettate come \\'luogo\\' e includi esempi di potenziali insidie. Vai oltre i termini generici e approfondisci scenari dettagliati. Sii esplicito riguardo alle potenziali ambiguità e fornisci indicazioni su come distinguere \\'luogo\\' da entità simili.\\nOutput in formato JSON: {\"Definition\": \"\", \"Guidelines\": \"\"}.'}, {'role': 'system', 'content': '{\"Definition\": \"\\'luogo\\' denota luoghi geografici come città, paesi, stati, regioni, continenti, punti di interesse naturale, e indirizzi specifici.\", \"Guidelines\": \"Assicurati di non confondere i nomi di luoghi con altre entità. Ad esempio, \\'Washington\\', potrebbe riferirsi alla città di Washington D.C. o al presidente George Washington, quindi considera attentamente il contesto. Escludi nomi di periodi storici, eventi o concetti astratti che non rappresentano luoghi fisici. Ad esempio, \\'nel Rinascimento\\' è un periodo storico, non un luogo geografico.\"}'}, {'role': 'user', 'content': 'Ora fai lo stesso per il tipo di entità: \\'entità mitologica\\', Esempi: [{\\'frase\\': \"Asclepio era il dio della salute nell\\' antico pantheon greco .\", \\'entità\\': [\\'Asclepio\\']}, {\\'frase\\': \\'Secondo eruditi locali settecenteschi sarebbe stato dedicato a Diana .\\', \\'entità\\': [\\'Diana\\']}, {\\'frase\\': \"In questo testo veniva riportato l\\' arrivo di Enea nel Lazio e la storia di Romolo e Remo .\", \\'entità\\': [\\'Romolo e Remo\\', \\'Enea\\']}]'}]\n",
      "Sending prompt for NE: MYTH...\n",
      "[{'role': 'system', 'content': 'Sei un esperto annotatore per la Named Entity Recognition, progettato per produrre output in formato JSON.'}, {'role': 'user', 'content': 'Tipo di entità: \\'luogo\\'. Esempi: [{\\'frase\\': \\'George Washington, nato in Virginia, è stato il primo presidente degli USA.\\', \\'entità\\': [\\'Virginia\\']}, {\\'frase\\': \\'Sono stato molte volte in vacanza a Napoli, in Italia\\', \\'entità\\': [\\'Napoli\\', \\'Italia\\']}, {\\'frase\\': \\'Siamo andati in vacanza a Ginevra e abbiamo visitato l\\'ONU.\\', \\'entità\\': [\\'Ginevra\\']}]. \\nIstruzioni: 1. Fornisci una breve definizione per il tipo di entità \\'luogo\\' nel contesto della NER. 2. Fornisci linee guida specificando quali entità non dovrebbero essere etichettate come \\'luogo\\' e includi esempi di potenziali insidie. Vai oltre i termini generici e approfondisci scenari dettagliati. Sii esplicito riguardo alle potenziali ambiguità e fornisci indicazioni su come distinguere \\'luogo\\' da entità simili.\\nOutput in formato JSON: {\"Definition\": \"\", \"Guidelines\": \"\"}.'}, {'role': 'system', 'content': '{\"Definition\": \"\\'luogo\\' denota luoghi geografici come città, paesi, stati, regioni, continenti, punti di interesse naturale, e indirizzi specifici.\", \"Guidelines\": \"Assicurati di non confondere i nomi di luoghi con altre entità. Ad esempio, \\'Washington\\', potrebbe riferirsi alla città di Washington D.C. o al presidente George Washington, quindi considera attentamente il contesto. Escludi nomi di periodi storici, eventi o concetti astratti che non rappresentano luoghi fisici. Ad esempio, \\'nel Rinascimento\\' è un periodo storico, non un luogo geografico.\"}'}, {'role': 'user', 'content': 'Ora fai lo stesso per il tipo di entità: \\'organizzazione\\', Esempi: [{\\'frase\\': \"Nell\\' estate del 2012 fa rientro all\\' Udinese diventando portiere titolare della prima squadra .\", \\'entità\\': [\\'Udinese\\']}, {\\'frase\\': \"Cresciuto a Berlino , si laurea in filosofia presso l\\' Università Ebraica di Gerusalemme .\", \\'entità\\': [\\'Università Ebraica di Gerusalemme\\']}, {\\'frase\\': \\'La \" Kriegsmarine \" rispose prontamente identificando ed eliminando i difetti .\\', \\'entità\\': [\\'Kriegsmarine\\']}]'}]\n",
      "Sending prompt for NE: ORG...\n",
      "[{'role': 'system', 'content': 'Sei un esperto annotatore per la Named Entity Recognition, progettato per produrre output in formato JSON.'}, {'role': 'user', 'content': 'Tipo di entità: \\'luogo\\'. Esempi: [{\\'frase\\': \\'George Washington, nato in Virginia, è stato il primo presidente degli USA.\\', \\'entità\\': [\\'Virginia\\']}, {\\'frase\\': \\'Sono stato molte volte in vacanza a Napoli, in Italia\\', \\'entità\\': [\\'Napoli\\', \\'Italia\\']}, {\\'frase\\': \\'Siamo andati in vacanza a Ginevra e abbiamo visitato l\\'ONU.\\', \\'entità\\': [\\'Ginevra\\']}]. \\nIstruzioni: 1. Fornisci una breve definizione per il tipo di entità \\'luogo\\' nel contesto della NER. 2. Fornisci linee guida specificando quali entità non dovrebbero essere etichettate come \\'luogo\\' e includi esempi di potenziali insidie. Vai oltre i termini generici e approfondisci scenari dettagliati. Sii esplicito riguardo alle potenziali ambiguità e fornisci indicazioni su come distinguere \\'luogo\\' da entità simili.\\nOutput in formato JSON: {\"Definition\": \"\", \"Guidelines\": \"\"}.'}, {'role': 'system', 'content': '{\"Definition\": \"\\'luogo\\' denota luoghi geografici come città, paesi, stati, regioni, continenti, punti di interesse naturale, e indirizzi specifici.\", \"Guidelines\": \"Assicurati di non confondere i nomi di luoghi con altre entità. Ad esempio, \\'Washington\\', potrebbe riferirsi alla città di Washington D.C. o al presidente George Washington, quindi considera attentamente il contesto. Escludi nomi di periodi storici, eventi o concetti astratti che non rappresentano luoghi fisici. Ad esempio, \\'nel Rinascimento\\' è un periodo storico, non un luogo geografico.\"}'}, {'role': 'user', 'content': \"Ora fai lo stesso per il tipo di entità: 'persona', Esempi: [{'frase': 'Altri grandi piloti ad usarlo furono Georges Guynemer , René Fonck e Eddie Rickenbacker .', 'entità': ['Eddie Rickenbacker', 'Georges Guynemer', 'René Fonck']}, {'frase': 'In questo periodo anche Kevin Ayers entra nel gruppo , di cui diviene membro occasionale .', 'entità': ['Kevin Ayers']}, {'frase': 'Qui conobbe il cantante e chitarrista João Gilberto , anche lui bahiano , che sposò nel 1959 .', 'entità': ['João Gilberto']}]\"}]\n",
      "Sending prompt for NE: PER...\n",
      "[{'role': 'system', 'content': 'Sei un esperto annotatore per la Named Entity Recognition, progettato per produrre output in formato JSON.'}, {'role': 'user', 'content': 'Tipo di entità: \\'luogo\\'. Esempi: [{\\'frase\\': \\'George Washington, nato in Virginia, è stato il primo presidente degli USA.\\', \\'entità\\': [\\'Virginia\\']}, {\\'frase\\': \\'Sono stato molte volte in vacanza a Napoli, in Italia\\', \\'entità\\': [\\'Napoli\\', \\'Italia\\']}, {\\'frase\\': \\'Siamo andati in vacanza a Ginevra e abbiamo visitato l\\'ONU.\\', \\'entità\\': [\\'Ginevra\\']}]. \\nIstruzioni: 1. Fornisci una breve definizione per il tipo di entità \\'luogo\\' nel contesto della NER. 2. Fornisci linee guida specificando quali entità non dovrebbero essere etichettate come \\'luogo\\' e includi esempi di potenziali insidie. Vai oltre i termini generici e approfondisci scenari dettagliati. Sii esplicito riguardo alle potenziali ambiguità e fornisci indicazioni su come distinguere \\'luogo\\' da entità simili.\\nOutput in formato JSON: {\"Definition\": \"\", \"Guidelines\": \"\"}.'}, {'role': 'system', 'content': '{\"Definition\": \"\\'luogo\\' denota luoghi geografici come città, paesi, stati, regioni, continenti, punti di interesse naturale, e indirizzi specifici.\", \"Guidelines\": \"Assicurati di non confondere i nomi di luoghi con altre entità. Ad esempio, \\'Washington\\', potrebbe riferirsi alla città di Washington D.C. o al presidente George Washington, quindi considera attentamente il contesto. Escludi nomi di periodi storici, eventi o concetti astratti che non rappresentano luoghi fisici. Ad esempio, \\'nel Rinascimento\\' è un periodo storico, non un luogo geografico.\"}'}, {'role': 'user', 'content': 'Ora fai lo stesso per il tipo di entità: \\'pianta\\', Esempi: [{\\'frase\\': \\'La vegetazione prevalente è composta da \" Suaeda vera \" .\\', \\'entità\\': [\\'Suaeda vera\\']}, {\\'frase\\': \\'È questo il limite meridionale dell\\\\\\' areale del faggio ( \" Fagus sylvatica \" ) .\\', \\'entità\\': [\\'Fagus sylvatica\\']}, {\\'frase\\': \\'Questa tribù comprende alberi , arbusti , subarbusti ed erbe perenni o annue .\\', \\'entità\\': [\\'arbusti\\', \\'erbe\\', \\'alberi\\']}]'}]\n",
      "Sending prompt for NE: PLANT...\n",
      "[{'role': 'system', 'content': 'Sei un esperto annotatore per la Named Entity Recognition, progettato per produrre output in formato JSON.'}, {'role': 'user', 'content': 'Tipo di entità: \\'luogo\\'. Esempi: [{\\'frase\\': \\'George Washington, nato in Virginia, è stato il primo presidente degli USA.\\', \\'entità\\': [\\'Virginia\\']}, {\\'frase\\': \\'Sono stato molte volte in vacanza a Napoli, in Italia\\', \\'entità\\': [\\'Napoli\\', \\'Italia\\']}, {\\'frase\\': \\'Siamo andati in vacanza a Ginevra e abbiamo visitato l\\'ONU.\\', \\'entità\\': [\\'Ginevra\\']}]. \\nIstruzioni: 1. Fornisci una breve definizione per il tipo di entità \\'luogo\\' nel contesto della NER. 2. Fornisci linee guida specificando quali entità non dovrebbero essere etichettate come \\'luogo\\' e includi esempi di potenziali insidie. Vai oltre i termini generici e approfondisci scenari dettagliati. Sii esplicito riguardo alle potenziali ambiguità e fornisci indicazioni su come distinguere \\'luogo\\' da entità simili.\\nOutput in formato JSON: {\"Definition\": \"\", \"Guidelines\": \"\"}.'}, {'role': 'system', 'content': '{\"Definition\": \"\\'luogo\\' denota luoghi geografici come città, paesi, stati, regioni, continenti, punti di interesse naturale, e indirizzi specifici.\", \"Guidelines\": \"Assicurati di non confondere i nomi di luoghi con altre entità. Ad esempio, \\'Washington\\', potrebbe riferirsi alla città di Washington D.C. o al presidente George Washington, quindi considera attentamente il contesto. Escludi nomi di periodi storici, eventi o concetti astratti che non rappresentano luoghi fisici. Ad esempio, \\'nel Rinascimento\\' è un periodo storico, non un luogo geografico.\"}'}, {'role': 'user', 'content': 'Ora fai lo stesso per il tipo di entità: \\'tempo\\', Esempi: [{\\'frase\\': \\'Il primo trailer del film viene diffuso il 4 dicembre 2015 .\\', \\'entità\\': [\\'4 dicembre 2015\\']}, {\\'frase\\': \"Nel 1938 compirono il loro unico viaggio all\\' estero , trascorrendo una settimana a Londra .\", \\'entità\\': [\\'1938\\']}, {\\'frase\\': \"Attiguo alla parrocchiale è il campanile , risalente all\\' incirca all\\' inizio del XIX secolo .\", \\'entità\\': [\\'inizio del XIX secolo\\']}]'}]\n",
      "Sending prompt for NE: TIME...\n",
      "[{'role': 'system', 'content': 'Sei un esperto annotatore per la Named Entity Recognition, progettato per produrre output in formato JSON.'}, {'role': 'user', 'content': 'Tipo di entità: \\'luogo\\'. Esempi: [{\\'frase\\': \\'George Washington, nato in Virginia, è stato il primo presidente degli USA.\\', \\'entità\\': [\\'Virginia\\']}, {\\'frase\\': \\'Sono stato molte volte in vacanza a Napoli, in Italia\\', \\'entità\\': [\\'Napoli\\', \\'Italia\\']}, {\\'frase\\': \\'Siamo andati in vacanza a Ginevra e abbiamo visitato l\\'ONU.\\', \\'entità\\': [\\'Ginevra\\']}]. \\nIstruzioni: 1. Fornisci una breve definizione per il tipo di entità \\'luogo\\' nel contesto della NER. 2. Fornisci linee guida specificando quali entità non dovrebbero essere etichettate come \\'luogo\\' e includi esempi di potenziali insidie. Vai oltre i termini generici e approfondisci scenari dettagliati. Sii esplicito riguardo alle potenziali ambiguità e fornisci indicazioni su come distinguere \\'luogo\\' da entità simili.\\nOutput in formato JSON: {\"Definition\": \"\", \"Guidelines\": \"\"}.'}, {'role': 'system', 'content': '{\"Definition\": \"\\'luogo\\' denota luoghi geografici come città, paesi, stati, regioni, continenti, punti di interesse naturale, e indirizzi specifici.\", \"Guidelines\": \"Assicurati di non confondere i nomi di luoghi con altre entità. Ad esempio, \\'Washington\\', potrebbe riferirsi alla città di Washington D.C. o al presidente George Washington, quindi considera attentamente il contesto. Escludi nomi di periodi storici, eventi o concetti astratti che non rappresentano luoghi fisici. Ad esempio, \\'nel Rinascimento\\' è un periodo storico, non un luogo geografico.\"}'}, {'role': 'user', 'content': 'Ora fai lo stesso per il tipo di entità: \\'veicolo\\', Esempi: [{\\'frase\\': \\'La DBR9 e la Vantage GT2 sono state invece riservate per la vendita a scuderie private .\\', \\'entità\\': [\\'DBR9\\', \\'Vantage GT2\\']}, {\\'frase\\': \\'L\\\\\\' incrociatore da battaglia \" Akagi \" fu completato come portaerei .\\', \\'entità\\': [\\'Akagi\\']}, {\\'frase\\': \\'Il resto del corpo vettura era simile a quello delle TR4 / TR5 .\\', \\'entità\\': [\\'TR4\\']}]'}]\n",
      "Sending prompt for NE: VEHI...\n"
     ]
    }
   ],
   "source": [
    "definitions = []\n",
    "for ne, exemplary_data in sentences_per_ne_type.items():\n",
    "    try:\n",
    "        ne_definition = get_json_definition_for_ne(ne, sentences_per_ne_type, gpt_model, max_output_tokens=250)\n",
    "        definitions.append(ne_definition)\n",
    "    except:\n",
    "        with open(f\"./{dataset_name}_err.jsonl\", 'w') as f:\n",
    "            json.dump(definitions, f, indent=2)\n",
    "        print(f\"Something went wrong while processing NE: {ne}\")\n",
    "\n",
    "with open(f\"./{dataset_name}.jsonl\", 'w') as f:\n",
    "    json.dump(definitions, f, indent=2)"
   ]
  },
  {
   "cell_type": "markdown",
   "metadata": {},
   "source": [
    "### END"
   ]
  }
 ],
 "metadata": {
  "kernelspec": {
   "display_name": "Python 3",
   "language": "python",
   "name": "python3"
  },
  "language_info": {
   "codemirror_mode": {
    "name": "ipython",
    "version": 3
   },
   "file_extension": ".py",
   "mimetype": "text/x-python",
   "name": "python",
   "nbconvert_exporter": "python",
   "pygments_lexer": "ipython3",
   "version": "3.8.13"
  }
 },
 "nbformat": 4,
 "nbformat_minor": 2
}
